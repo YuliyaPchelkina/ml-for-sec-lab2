{
 "cells": [
  {
   "cell_type": "markdown",
   "id": "09cf2240",
   "metadata": {},
   "source": [
    "### Лабораторная работа №2. Методы стеганоанализа\n",
    "\n",
    "Пчелкина Ю.Ж., группа 6231-010402D\n",
    "\n",
    "Чаплыгин А.О., группа 6231-010402D\n",
    "\n",
    "\n",
    "\n"
   ]
  },
  {
   "cell_type": "markdown",
   "id": "0347c187",
   "metadata": {},
   "source": [
    "#### Обучение\n",
    "\n",
    "3. Произвести обучение классификатора (модель классификатора выбрать самостоятельно) по выборке, содержащей первые 70 % изображений каждого из двух типов (со встраиванием и без. То есть общий объём обучающей выборки составляет 𝐾∙0,7.\n",
    "\n",
    "\n",
    "4. Применить обученный классификатор на оставшихся 30 % изображений и оценить качество классификации по мере Accuracy. Вывести результат в виде графиков зависимости Accuracy от 𝑞.\n",
    "\n",
    "\n",
    "5. Повторить пп. 2-4 для других значений 𝑞 и (при желании) для других векторов признаков.\n"
   ]
  },
  {
   "cell_type": "code",
   "execution_count": 1,
   "id": "b9295a1e",
   "metadata": {},
   "outputs": [],
   "source": [
    "import cv2\n",
    "import numpy as np\n",
    "import matplotlib.pyplot as plt\n",
    "%matplotlib inline\n",
    "\n",
    "import pandas as pd\n",
    "import numpy as np\n",
    "import seaborn as sns\n",
    "\n",
    "from sklearn.model_selection import train_test_split\n",
    "from sklearn.svm import SVC\n",
    "from catboost import CatBoostClassifier\n",
    "from sklearn.neighbors import KNeighborsClassifier\n",
    "from sklearn.tree import DecisionTreeClassifier\n",
    "from sklearn.ensemble import RandomForestClassifier\n",
    "from sklearn.naive_bayes import MultinomialNB\n",
    "from sklearn.linear_model import LogisticRegression\n",
    "from sklearn.discriminant_analysis import LinearDiscriminantAnalysis as LDA\n",
    "\n",
    "\n",
    "\n",
    "from sklearn.metrics import confusion_matrix, classification_report, f1_score, accuracy_score, roc_curve, plot_confusion_matrix\n",
    "\n",
    "from sklearn.pipeline import Pipeline\n",
    "from sklearn.preprocessing import StandardScaler\n",
    "from sklearn.preprocessing import MinMaxScaler\n",
    "\n",
    "from sklearn.model_selection import GridSearchCV"
   ]
  },
  {
   "cell_type": "code",
   "execution_count": 2,
   "id": "90c1dde2",
   "metadata": {},
   "outputs": [
    {
     "data": {
      "text/html": [
       "<div>\n",
       "<style scoped>\n",
       "    .dataframe tbody tr th:only-of-type {\n",
       "        vertical-align: middle;\n",
       "    }\n",
       "\n",
       "    .dataframe tbody tr th {\n",
       "        vertical-align: top;\n",
       "    }\n",
       "\n",
       "    .dataframe thead th {\n",
       "        text-align: right;\n",
       "    }\n",
       "</style>\n",
       "<table border=\"1\" class=\"dataframe\">\n",
       "  <thead>\n",
       "    <tr style=\"text-align: right;\">\n",
       "      <th></th>\n",
       "      <th>Image Name</th>\n",
       "      <th>series length 1</th>\n",
       "      <th>series length 2</th>\n",
       "      <th>series length 3</th>\n",
       "      <th>series length 4</th>\n",
       "      <th>series length 5</th>\n",
       "      <th>series length 6</th>\n",
       "      <th>series length 7</th>\n",
       "      <th>series length 8</th>\n",
       "      <th>series length 9</th>\n",
       "      <th>series length 10</th>\n",
       "      <th>series length 11</th>\n",
       "      <th>series length 12</th>\n",
       "      <th>with message</th>\n",
       "    </tr>\n",
       "  </thead>\n",
       "  <tbody>\n",
       "    <tr>\n",
       "      <th>0</th>\n",
       "      <td>Image00001.tif</td>\n",
       "      <td>64722.0</td>\n",
       "      <td>32472.0</td>\n",
       "      <td>16187.0</td>\n",
       "      <td>8298.0</td>\n",
       "      <td>4078.0</td>\n",
       "      <td>2049.0</td>\n",
       "      <td>1112.0</td>\n",
       "      <td>579.0</td>\n",
       "      <td>269.0</td>\n",
       "      <td>126.0</td>\n",
       "      <td>79.0</td>\n",
       "      <td>42.0</td>\n",
       "      <td>1.0</td>\n",
       "    </tr>\n",
       "    <tr>\n",
       "      <th>1</th>\n",
       "      <td>Image00002.tif</td>\n",
       "      <td>62360.0</td>\n",
       "      <td>30217.0</td>\n",
       "      <td>15248.0</td>\n",
       "      <td>8099.0</td>\n",
       "      <td>4122.0</td>\n",
       "      <td>2307.0</td>\n",
       "      <td>1250.0</td>\n",
       "      <td>721.0</td>\n",
       "      <td>392.0</td>\n",
       "      <td>236.0</td>\n",
       "      <td>154.0</td>\n",
       "      <td>110.0</td>\n",
       "      <td>1.0</td>\n",
       "    </tr>\n",
       "    <tr>\n",
       "      <th>2</th>\n",
       "      <td>Image00003.tif</td>\n",
       "      <td>61795.0</td>\n",
       "      <td>29905.0</td>\n",
       "      <td>15126.0</td>\n",
       "      <td>7871.0</td>\n",
       "      <td>4146.0</td>\n",
       "      <td>2259.0</td>\n",
       "      <td>1297.0</td>\n",
       "      <td>747.0</td>\n",
       "      <td>447.0</td>\n",
       "      <td>236.0</td>\n",
       "      <td>193.0</td>\n",
       "      <td>116.0</td>\n",
       "      <td>1.0</td>\n",
       "    </tr>\n",
       "    <tr>\n",
       "      <th>3</th>\n",
       "      <td>Image00004.tif</td>\n",
       "      <td>62414.0</td>\n",
       "      <td>30450.0</td>\n",
       "      <td>15248.0</td>\n",
       "      <td>7777.0</td>\n",
       "      <td>4088.0</td>\n",
       "      <td>2229.0</td>\n",
       "      <td>1200.0</td>\n",
       "      <td>702.0</td>\n",
       "      <td>446.0</td>\n",
       "      <td>251.0</td>\n",
       "      <td>182.0</td>\n",
       "      <td>113.0</td>\n",
       "      <td>1.0</td>\n",
       "    </tr>\n",
       "    <tr>\n",
       "      <th>4</th>\n",
       "      <td>Image00005.tif</td>\n",
       "      <td>65529.0</td>\n",
       "      <td>32636.0</td>\n",
       "      <td>16323.0</td>\n",
       "      <td>8080.0</td>\n",
       "      <td>4160.0</td>\n",
       "      <td>2110.0</td>\n",
       "      <td>1027.0</td>\n",
       "      <td>499.0</td>\n",
       "      <td>256.0</td>\n",
       "      <td>157.0</td>\n",
       "      <td>58.0</td>\n",
       "      <td>31.0</td>\n",
       "      <td>1.0</td>\n",
       "    </tr>\n",
       "  </tbody>\n",
       "</table>\n",
       "</div>"
      ],
      "text/plain": [
       "       Image Name  series length 1  series length 2  series length 3  \\\n",
       "0  Image00001.tif          64722.0          32472.0          16187.0   \n",
       "1  Image00002.tif          62360.0          30217.0          15248.0   \n",
       "2  Image00003.tif          61795.0          29905.0          15126.0   \n",
       "3  Image00004.tif          62414.0          30450.0          15248.0   \n",
       "4  Image00005.tif          65529.0          32636.0          16323.0   \n",
       "\n",
       "   series length 4  series length 5  series length 6  series length 7  \\\n",
       "0           8298.0           4078.0           2049.0           1112.0   \n",
       "1           8099.0           4122.0           2307.0           1250.0   \n",
       "2           7871.0           4146.0           2259.0           1297.0   \n",
       "3           7777.0           4088.0           2229.0           1200.0   \n",
       "4           8080.0           4160.0           2110.0           1027.0   \n",
       "\n",
       "   series length 8  series length 9  series length 10  series length 11  \\\n",
       "0            579.0            269.0             126.0              79.0   \n",
       "1            721.0            392.0             236.0             154.0   \n",
       "2            747.0            447.0             236.0             193.0   \n",
       "3            702.0            446.0             251.0             182.0   \n",
       "4            499.0            256.0             157.0              58.0   \n",
       "\n",
       "   series length 12  with message  \n",
       "0              42.0           1.0  \n",
       "1             110.0           1.0  \n",
       "2             116.0           1.0  \n",
       "3             113.0           1.0  \n",
       "4              31.0           1.0  "
      ]
     },
     "execution_count": 2,
     "metadata": {},
     "output_type": "execute_result"
    }
   ],
   "source": [
    "df = pd.read_csv('LSB_50.csv')\n",
    "df.head()"
   ]
  },
  {
   "cell_type": "markdown",
   "id": "0d57679c",
   "metadata": {},
   "source": [
    "#### Логистическая регрессия"
   ]
  },
  {
   "cell_type": "code",
   "execution_count": 3,
   "id": "e621993d",
   "metadata": {},
   "outputs": [
    {
     "name": "stdout",
     "output_type": "stream",
     "text": [
      "F1:  0.8288288288288287\n",
      "accuracy:  0.81\n"
     ]
    }
   ],
   "source": [
    "# Классификатор LogisticRegression на полном наборе признаков\n",
    "\n",
    "df_new = df.drop(columns = ['Image Name'])\n",
    "\n",
    "\n",
    "# Разделим набор данных на независимые и зависимые переменные. Сохраняем как массив\n",
    "X = df_new.drop('with message', axis = 1)\n",
    "Y = df_new['with message']\n",
    "\n",
    "# поделили на обучающую и тестовую выборки 30/70\n",
    "X_train, X_test, Y_train, Y_test = train_test_split(X, Y, test_size = 0.3, random_state = 21)\n",
    "X_train.shape, X_test.shape\n",
    "\n",
    "# Нормализуем данные\n",
    "Log = LogisticRegression()\n",
    "scaler = StandardScaler()\n",
    "X_train_M = scaler.fit_transform(X_train)\n",
    "X_test_M = scaler.transform(X_test)\n",
    "\n",
    "model_Log = LogisticRegression() \n",
    "model_Log.fit(X_train_M, Y_train)\n",
    "Y_Log = model_Log.predict(X_test_M)\n",
    "\n",
    "print('F1: ', f1_score(Y_test, Y_Log))\n",
    "print('accuracy: ', accuracy_score(Y_test, Y_Log))"
   ]
  },
  {
   "cell_type": "code",
   "execution_count": 4,
   "id": "a519ec46",
   "metadata": {},
   "outputs": [
    {
     "name": "stdout",
     "output_type": "stream",
     "text": [
      "F1:  0.7341040462427746\n",
      "accuracy:  0.6933333333333334\n"
     ]
    }
   ],
   "source": [
    "# Классификатор LogisticRegression для больших длин\n",
    "\n",
    "df_new = df.drop(columns = ['Image Name', \n",
    "                            'series length 1', 'series length 2', \n",
    "                            'series length 3', 'series length 4',\n",
    "                            'series length 5', 'series length 6',\n",
    "                            'series length 7', 'series length 8'])\n",
    "\n",
    "# Разделим набор данных на независимые и зависимые переменные. Сохраняем как массив\n",
    "X = df_new.drop('with message', axis = 1)\n",
    "Y = df_new['with message']\n",
    "\n",
    "# поделили на обучающую и тестовую выборки 30/70\n",
    "X_train, X_test, Y_train, Y_test = train_test_split(X, Y, test_size = 0.3, random_state = 21)\n",
    "X_train.shape, X_test.shape\n",
    "\n",
    "# Нормализуем данные\n",
    "Log = LogisticRegression()\n",
    "scaler = StandardScaler()\n",
    "X_train_M = scaler.fit_transform(X_train)\n",
    "X_test_M = scaler.transform(X_test)\n",
    "\n",
    "model_Log = LogisticRegression() \n",
    "model_Log.fit(X_train_M, Y_train)\n",
    "Y_Log = model_Log.predict(X_test_M)\n",
    "\n",
    "print('F1: ', f1_score(Y_test, Y_Log))\n",
    "print('accuracy: ', accuracy_score(Y_test, Y_Log))"
   ]
  },
  {
   "cell_type": "code",
   "execution_count": 5,
   "id": "2bc2dcdf",
   "metadata": {},
   "outputs": [
    {
     "name": "stdout",
     "output_type": "stream",
     "text": [
      "F1:  0.8108108108108107\n",
      "accuracy:  0.79\n"
     ]
    }
   ],
   "source": [
    "# Классификатор LogisticRegression для меньших длин\n",
    "\n",
    "df_new = df.drop(columns = ['Image Name', \n",
    "                            'series length 5',\n",
    "                            'series length 6', 'series length 7', \n",
    "                            'series length 8', 'series length 9',\n",
    "                            'series length 10', 'series length 11',\n",
    "                            'series length 12'])\n",
    "\n",
    "# Разделим набор данных на независимые и зависимые переменные. Сохраняем как массив\n",
    "X = df_new.drop('with message', axis = 1)\n",
    "Y = df_new['with message']\n",
    "\n",
    "# поделили на обучающую и тестовую выборки 30/70\n",
    "X_train, X_test, Y_train, Y_test = train_test_split(X, Y, test_size = 0.3, random_state = 21)\n",
    "X_train.shape, X_test.shape\n",
    "\n",
    "# Нормализуем данные\n",
    "Log = LogisticRegression()\n",
    "scaler = StandardScaler()\n",
    "X_train_M = scaler.fit_transform(X_train)\n",
    "X_test_M = scaler.transform(X_test)\n",
    "\n",
    "model_Log = LogisticRegression() \n",
    "model_Log.fit(X_train_M, Y_train)\n",
    "Y_Log = model_Log.predict(X_test_M)\n",
    "\n",
    "print('F1: ', f1_score(Y_test, Y_Log))\n",
    "print('accuracy: ', accuracy_score(Y_test, Y_Log))"
   ]
  },
  {
   "cell_type": "code",
   "execution_count": 6,
   "id": "647dddbb",
   "metadata": {},
   "outputs": [
    {
     "name": "stdout",
     "output_type": "stream",
     "text": [
      "F1:  0.8096676737160121\n",
      "accuracy:  0.79\n"
     ]
    }
   ],
   "source": [
    "# Только первый и последний\n",
    "\n",
    "df_title = {'low midle': [], 'high midle': [], 'with message': []}\n",
    "df_new = pd.DataFrame(df_title)\n",
    "\n",
    "df_new['low midle'] = df['series length 1']\n",
    "df_new['high midle'] = df['series length 12']\n",
    "df_new['with message'] = df['with message']\n",
    "\n",
    "# Разделим набор данных на независимые и зависимые переменные. Сохраняем как массив\n",
    "X = df_new.drop('with message', axis = 1)\n",
    "Y = df_new['with message']\n",
    "\n",
    "# поделили на обучающую и тестовую выборки 30/70\n",
    "X_train, X_test, Y_train, Y_test = train_test_split(X, Y, test_size = 0.3, random_state = 21)\n",
    "X_train.shape, X_test.shape\n",
    "\n",
    "# Нормализуем данные\n",
    "Log = LogisticRegression()\n",
    "scaler = StandardScaler()\n",
    "X_train_M = scaler.fit_transform(X_train)\n",
    "X_test_M = scaler.transform(X_test)\n",
    "\n",
    "model_Log = LogisticRegression() \n",
    "model_Log.fit(X_train_M, Y_train)\n",
    "Y_Log = model_Log.predict(X_test_M)\n",
    "\n",
    "print('F1: ', f1_score(Y_test, Y_Log))\n",
    "print('accuracy: ', accuracy_score(Y_test, Y_Log))"
   ]
  },
  {
   "cell_type": "code",
   "execution_count": 7,
   "id": "72cb8913",
   "metadata": {},
   "outputs": [
    {
     "name": "stdout",
     "output_type": "stream",
     "text": [
      "F1:  0.8106508875739645\n",
      "accuracy:  0.7866666666666666\n"
     ]
    }
   ],
   "source": [
    "# Пробуем объединять признаки. Берем среднее по 3-м маленьким длинам и среднее по 3-м большим\n",
    "\n",
    "df_title = {'low midle': [], 'high midle': [], 'with message': []}\n",
    "df_new = pd.DataFrame(df_title)\n",
    "\n",
    "df_new['low midle'] = round((df['series length 1'] + df['series length 2'] + df['series length 3'])/3)\n",
    "df_new['high midle'] = round((df['series length 10'] + df['series length 11'] + df['series length 12'])/3)\n",
    "df_new['with message'] = df['with message']\n",
    "\n",
    "# Разделим набор данных на независимые и зависимые переменные. Сохраняем как массив\n",
    "X = df_new.drop('with message', axis = 1)\n",
    "Y = df_new['with message']\n",
    "\n",
    "# поделили на обучающую и тестовую выборки 30/70\n",
    "X_train, X_test, Y_train, Y_test = train_test_split(X, Y, test_size = 0.3, random_state = 21)\n",
    "X_train.shape, X_test.shape\n",
    "\n",
    "# Нормализуем данные\n",
    "Log = LogisticRegression()\n",
    "scaler = StandardScaler()\n",
    "X_train_M = scaler.fit_transform(X_train)\n",
    "X_test_M = scaler.transform(X_test)\n",
    "\n",
    "model_Log = LogisticRegression() \n",
    "model_Log.fit(X_train_M, Y_train)\n",
    "Y_Log = model_Log.predict(X_test_M)\n",
    "\n",
    "print('F1: ', f1_score(Y_test, Y_Log))\n",
    "print('accuracy: ', accuracy_score(Y_test, Y_Log))"
   ]
  },
  {
   "cell_type": "markdown",
   "id": "c78afe1b",
   "metadata": {},
   "source": [
    "В случае логистической регрессии лучшие результаты получили при полном наборе принаков. Аccuracy =  0.81 "
   ]
  },
  {
   "cell_type": "markdown",
   "id": "4e9378ae",
   "metadata": {},
   "source": [
    "#### Метод опорных векторов (SVC)"
   ]
  },
  {
   "cell_type": "code",
   "execution_count": 8,
   "id": "45d4f79d",
   "metadata": {},
   "outputs": [
    {
     "name": "stdout",
     "output_type": "stream",
     "text": [
      "F1:  0.7828746177370031\n",
      "accuracy:  0.7633333333333333\n"
     ]
    }
   ],
   "source": [
    "# Классификатор SVC на полном наборе признаков\n",
    "\n",
    "df_new = df.drop(columns = ['Image Name'])\n",
    "\n",
    "\n",
    "# Разделим набор данных на независимые и зависимые переменные. Сохраняем как массив\n",
    "X = df_new.drop('with message', axis = 1)\n",
    "Y = df_new['with message']\n",
    "\n",
    "# поделили на обучающую и тестовую выборки 30/70\n",
    "X_train, X_test, Y_train, Y_test = train_test_split(X, Y, test_size = 0.3, random_state = 21)\n",
    "X_train.shape, X_test.shape\n",
    "\n",
    "# Нормализуем данные\n",
    "scale_features_mm = MinMaxScaler()\n",
    "X_train_new = scale_features_mm.fit_transform(X_train) \n",
    "X_test_new = scale_features_mm.fit_transform(X_test)\n",
    "\n",
    "\n",
    "model_SVC = SVC()\n",
    "model_SVC.fit(X_train_new, Y_train)\n",
    "Y_SVC = model_SVC.predict(X_test_new)\n",
    "\n",
    "\n",
    "print('F1: ', f1_score(Y_test, Y_SVC))\n",
    "print('accuracy: ', accuracy_score(Y_test, Y_SVC))"
   ]
  },
  {
   "cell_type": "code",
   "execution_count": 9,
   "id": "c7059d5e",
   "metadata": {},
   "outputs": [
    {
     "name": "stdout",
     "output_type": "stream",
     "text": [
      "F1:  0.7083333333333334\n",
      "accuracy:  0.6733333333333333\n"
     ]
    }
   ],
   "source": [
    "# Классификатор SVC для больших длин\n",
    "\n",
    "df_new = df.drop(columns = ['Image Name', \n",
    "                            'series length 1', 'series length 2', \n",
    "                            'series length 3', 'series length 4',\n",
    "                            'series length 5', 'series length 6',\n",
    "                            'series length 7', 'series length 8'])\n",
    "\n",
    "\n",
    "# Разделим набор данных на независимые и зависимые переменные. Сохраняем как массив\n",
    "X = df_new.drop('with message', axis = 1)\n",
    "Y = df_new['with message']\n",
    "\n",
    "# поделили на обучающую и тестовую выборки 30/70\n",
    "X_train, X_test, Y_train, Y_test = train_test_split(X, Y, test_size = 0.3, random_state = 21)\n",
    "X_train.shape, X_test.shape\n",
    "\n",
    "# Нормализуем данные\n",
    "scale_features_mm = MinMaxScaler()\n",
    "X_train_new = scale_features_mm.fit_transform(X_train) \n",
    "X_test_new = scale_features_mm.fit_transform(X_test)\n",
    "\n",
    "model_SVC = SVC()\n",
    "model_SVC.fit(X_train_new, Y_train)\n",
    "Y_SVC = model_SVC.predict(X_test_new)\n",
    "\n",
    "print('F1: ', f1_score(Y_test, Y_SVC))\n",
    "print('accuracy: ', accuracy_score(Y_test, Y_SVC))"
   ]
  },
  {
   "cell_type": "code",
   "execution_count": 10,
   "id": "0c149b49",
   "metadata": {},
   "outputs": [
    {
     "name": "stdout",
     "output_type": "stream",
     "text": [
      "F1:  0.8198757763975154\n",
      "accuracy:  0.8066666666666666\n"
     ]
    }
   ],
   "source": [
    "# Классификатор SVC для меньших длин\n",
    "\n",
    "df_new = df.drop(columns = ['Image Name', \n",
    "                            'series length 5',\n",
    "                            'series length 6', 'series length 7', \n",
    "                            'series length 8', 'series length 9',\n",
    "                            'series length 10', 'series length 11',\n",
    "                            'series length 12'])\n",
    "\n",
    "\n",
    "# Разделим набор данных на независимые и зависимые переменные. Сохраняем как массив\n",
    "X = df_new.drop('with message', axis = 1)\n",
    "Y = df_new['with message']\n",
    "\n",
    "# поделили на обучающую и тестовую выборки 30/70\n",
    "X_train, X_test, Y_train, Y_test = train_test_split(X, Y, test_size = 0.3, random_state = 21)\n",
    "X_train.shape, X_test.shape\n",
    "\n",
    "# Нормализуем данные\n",
    "scale_features_mm = MinMaxScaler()\n",
    "X_train_new = scale_features_mm.fit_transform(X_train) \n",
    "X_test_new = scale_features_mm.fit_transform(X_test)\n",
    "\n",
    "model_SVC = SVC()\n",
    "model_SVC.fit(X_train_new, Y_train)\n",
    "Y_SVC = model_SVC.predict(X_test_new)\n",
    "\n",
    "print('F1: ', f1_score(Y_test, Y_SVC))\n",
    "print('accuracy: ', accuracy_score(Y_test, Y_SVC))"
   ]
  },
  {
   "cell_type": "code",
   "execution_count": 11,
   "id": "68d20fa1",
   "metadata": {},
   "outputs": [
    {
     "name": "stdout",
     "output_type": "stream",
     "text": [
      "F1:  0.7898089171974523\n",
      "accuracy:  0.78\n"
     ]
    }
   ],
   "source": [
    "# Только первый и последний\n",
    "\n",
    "df_title = {'low midle': [], 'high midle': [], 'with message': []}\n",
    "df_new = pd.DataFrame(df_title)\n",
    "\n",
    "df_new['low midle'] = df['series length 1']\n",
    "df_new['high midle'] = df['series length 12']\n",
    "df_new['with message'] = df['with message']\n",
    "\n",
    "# Разделим набор данных на независимые и зависимые переменные. Сохраняем как массив\n",
    "X = df_new.drop('with message', axis = 1)\n",
    "Y = df_new['with message']\n",
    "\n",
    "# поделили на обучающую и тестовую выборки 30/70\n",
    "X_train, X_test, Y_train, Y_test = train_test_split(X, Y, test_size = 0.3, random_state = 21)\n",
    "X_train.shape, X_test.shape\n",
    "\n",
    "# Нормализуем данные\n",
    "scale_features_mm = MinMaxScaler()\n",
    "X_train_new = scale_features_mm.fit_transform(X_train) \n",
    "X_test_new = scale_features_mm.fit_transform(X_test)\n",
    "\n",
    "model_SVC = SVC()\n",
    "model_SVC.fit(X_train_new, Y_train)\n",
    "Y_SVC = model_SVC.predict(X_test_new)\n",
    "\n",
    "print('F1: ', f1_score(Y_test, Y_SVC))\n",
    "print('accuracy: ', accuracy_score(Y_test, Y_SVC))\n"
   ]
  },
  {
   "cell_type": "code",
   "execution_count": 12,
   "id": "449417b3",
   "metadata": {},
   "outputs": [
    {
     "name": "stdout",
     "output_type": "stream",
     "text": [
      "F1:  0.7702265372168284\n",
      "accuracy:  0.7633333333333333\n"
     ]
    }
   ],
   "source": [
    "# Классификатор SVM для объединенных признаков.\n",
    "\n",
    "df_title = {'low midle': [], 'high midle': [], 'with message': []}\n",
    "df_new = pd.DataFrame(df_title)\n",
    "\n",
    "df_new['low midle'] = round((df['series length 1'] + df['series length 2'] + df['series length 3'])/3)\n",
    "df_new['high midle'] = round((df['series length 10'] + df['series length 11'] + df['series length 12'])/3)\n",
    "df_new['with message'] = df['with message']\n",
    "\n",
    "# Разделим набор данных на независимые и зависимые переменные. Сохраняем как массив\n",
    "X = df_new.drop('with message', axis = 1)\n",
    "Y = df_new['with message']\n",
    "\n",
    "# поделили на обучающую и тестовую выборки 30/70\n",
    "X_train, X_test, Y_train, Y_test = train_test_split(X, Y, test_size = 0.3, random_state = 21)\n",
    "X_train.shape, X_test.shape\n",
    "\n",
    "# Нормализуем данные\n",
    "scale_features_mm = MinMaxScaler()\n",
    "X_train_new = scale_features_mm.fit_transform(X_train) \n",
    "X_test_new = scale_features_mm.fit_transform(X_test)\n",
    "\n",
    "model_SVC = SVC()\n",
    "model_SVC.fit(X_train_new, Y_train)\n",
    "Y_SVC = model_SVC.predict(X_test_new)\n",
    "\n",
    "print('F1: ', f1_score(Y_test, Y_SVC))\n",
    "print('accuracy: ', accuracy_score(Y_test, Y_SVC))\n"
   ]
  },
  {
   "cell_type": "markdown",
   "id": "ea99c980",
   "metadata": {},
   "source": [
    "В случае метода опорных векторов лучшие результаты получили при наборе принаков из для меньших длин. Аccuracy = 0.8066"
   ]
  },
  {
   "cell_type": "markdown",
   "id": "aa2854a8",
   "metadata": {},
   "source": [
    "#### Классификатор CatBoostClassifier"
   ]
  },
  {
   "cell_type": "code",
   "execution_count": 13,
   "id": "0ad872aa",
   "metadata": {},
   "outputs": [
    {
     "name": "stderr",
     "output_type": "stream",
     "text": [
      "C:\\Users\\Barova\\AppData\\Roaming\\Python\\Python38\\site-packages\\catboost\\core.py:1325: FutureWarning: iteritems is deprecated and will be removed in a future version. Use .items instead.\n",
      "  self._init_pool(data, label, cat_features, text_features, embedding_features, pairs, weight,\n"
     ]
    },
    {
     "data": {
      "text/plain": [
       "{'depth': 4, 'grow_policy': 'Lossguide', 'iterations': 50}"
      ]
     },
     "execution_count": 13,
     "metadata": {},
     "output_type": "execute_result"
    }
   ],
   "source": [
    "# Классификатор CatBoostClassifier (с подбором гиперпараметров) для меньших длин\n",
    "\n",
    "df_new = df.drop(columns = ['Image Name', \n",
    "                            'series length 5',\n",
    "                            'series length 6', 'series length 7', \n",
    "                            'series length 8', 'series length 9',\n",
    "                            'series length 10', 'series length 11',\n",
    "                            'series length 12'])\n",
    "\n",
    "\n",
    "# Разделим набор данных на независимые и зависимые переменные. Сохраняем как массив\n",
    "X = df_new.drop('with message', axis = 1)\n",
    "Y = df_new['with message']\n",
    "\n",
    "# поделили на обучающую и тестовую выборки 30/70\n",
    "X_train, X_test, Y_train, Y_test = train_test_split(X, Y, test_size = 0.3, random_state = 21)\n",
    "X_train.shape, X_test.shape\n",
    "\n",
    "# Подбираем гиперпараметры\n",
    "# depth - глубина дерева\n",
    "# grow_policy - определяет, как будет применяться жадный алгоритм поиска\n",
    "# learning_rate - скорость обучения\n",
    "\n",
    "CBC = CatBoostClassifier()\n",
    "params_CBC = \\\n",
    "     {'depth': [4,5,6,7,8,9, 10],\n",
    "     'grow_policy': ['SymmetricTree', 'Depthwise', 'Lossguide'],\n",
    "     'iterations'    : [10, 20, 50, 100, 500]}\n",
    "\n",
    "grid_search_CBC1 = GridSearchCV(estimator=CBC, param_grid = params_CBC, cv = 2)\n",
    "grid_search_CBC1.fit(X_train, Y_train, verbose = False)\n",
    "grid_search_CBC1.best_params_"
   ]
  },
  {
   "cell_type": "code",
   "execution_count": 14,
   "id": "72441813",
   "metadata": {},
   "outputs": [
    {
     "name": "stdout",
     "output_type": "stream",
     "text": [
      "F1:  0.5302325581395348\n",
      "accuracy:  0.6633333333333333\n"
     ]
    }
   ],
   "source": [
    "# Обучаем модель с лучшими параметрами\n",
    "model_CBC = CatBoostClassifier(depth = grid_search_CBC1.best_params_['depth'],\n",
    "                               grow_policy = grid_search_CBC1.best_params_['grow_policy'],\n",
    "                               iterations = grid_search_CBC1.best_params_['iterations'])\n",
    "\n",
    "model_CBC.fit(X_train_new, Y_train, verbose = False)\n",
    "Y_CBC = model_CBC.predict(X_test_new)\n",
    "\n",
    "print('F1: ', f1_score(Y_test, Y_CBC))\n",
    "print('accuracy: ', accuracy_score(Y_test, Y_CBC))"
   ]
  },
  {
   "cell_type": "code",
   "execution_count": 22,
   "id": "97ac1291",
   "metadata": {},
   "outputs": [
    {
     "name": "stderr",
     "output_type": "stream",
     "text": [
      "C:\\Users\\Barova\\AppData\\Roaming\\Python\\Python38\\site-packages\\catboost\\core.py:1325: FutureWarning: iteritems is deprecated and will be removed in a future version. Use .items instead.\n",
      "  self._init_pool(data, label, cat_features, text_features, embedding_features, pairs, weight,\n"
     ]
    },
    {
     "data": {
      "text/plain": [
       "{'depth': 4, 'grow_policy': 'SymmetricTree', 'iterations': 50}"
      ]
     },
     "execution_count": 22,
     "metadata": {},
     "output_type": "execute_result"
    }
   ],
   "source": [
    "# Классификатор CatBoostClassifier для объединенных признаков.\n",
    "\n",
    "df_title = {'low midle': [], 'high midle': [], 'with message': []}\n",
    "df_new = pd.DataFrame(df_title)\n",
    "\n",
    "df_new['low midle'] = round((df['series length 1'] + df['series length 2'] + df['series length 3'])/3)\n",
    "df_new['high midle'] = round((df['series length 10'] + df['series length 11'] + df['series length 12'])/3)\n",
    "df_new['with message'] = df['with message']\n",
    "\n",
    "# Разделим набор данных на независимые и зависимые переменные. Сохраняем как массив\n",
    "X = df_new.drop('with message', axis = 1)\n",
    "Y = df_new['with message']\n",
    "\n",
    "# поделили на обучающую и тестовую выборки 30/70\n",
    "X_train, X_test, Y_train, Y_test = train_test_split(X, Y, test_size = 0.3, random_state = 21)\n",
    "X_train.shape, X_test.shape\n",
    "\n",
    "# Подбираем гиперпараметры\n",
    "CBC = CatBoostClassifier()\n",
    "params_CBC = \\\n",
    "     {'depth': [4,5,6,7,8,9, 10],\n",
    "     'grow_policy': ['SymmetricTree', 'Depthwise', 'Lossguide'],\n",
    "     'iterations'    : [10, 20, 50, 100, 500]}\n",
    "\n",
    "grid_search_CBC2 = GridSearchCV(estimator=CBC, param_grid = params_CBC, cv = 2)\n",
    "grid_search_CBC2.fit(X_train, Y_train, verbose = False)\n",
    "grid_search_CBC2.best_params_"
   ]
  },
  {
   "cell_type": "code",
   "execution_count": 23,
   "id": "a64d6c18",
   "metadata": {},
   "outputs": [
    {
     "name": "stdout",
     "output_type": "stream",
     "text": [
      "F1:  0.6101694915254238\n",
      "accuracy:  0.6166666666666667\n"
     ]
    }
   ],
   "source": [
    "# Обучаем модель с лучшими параметрами\n",
    "model_CBC = CatBoostClassifier(depth = grid_search_CBC2.best_params_['depth'],\n",
    "                               grow_policy = grid_search_CBC2.best_params_['grow_policy'],\n",
    "                               iterations = grid_search_CBC2.best_params_['iterations'])\n",
    "\n",
    "model_CBC.fit(X_train_new, Y_train, verbose = False)\n",
    "Y_CBC = model_CBC.predict(X_test_new)\n",
    "\n",
    "print('F1: ', f1_score(Y_test, Y_CBC))\n",
    "print('accuracy: ', accuracy_score(Y_test, Y_CBC))"
   ]
  },
  {
   "cell_type": "markdown",
   "id": "2697bc1b",
   "metadata": {},
   "source": [
    "В случае классификатора CatBoost лучшие результаты получили при наборе принаков из для меньших длин. Аccuracy = 0.66\n",
    "\n",
    "Параметры: depth = 4, grow_policy = Lossguide, iterations =  50"
   ]
  },
  {
   "cell_type": "markdown",
   "id": "6af3ee5f",
   "metadata": {},
   "source": [
    "#### Метод k-ближайших соседей (KNN)"
   ]
  },
  {
   "cell_type": "code",
   "execution_count": 15,
   "id": "5474dbc0",
   "metadata": {},
   "outputs": [
    {
     "data": {
      "text/plain": [
       "{'KNN__algorithm': 'auto', 'KNN__n_neighbors': 24, 'KNN__weights': 'distance'}"
      ]
     },
     "execution_count": 15,
     "metadata": {},
     "output_type": "execute_result"
    }
   ],
   "source": [
    "# Классификатор KNN для меньших длин с подбором гиперпараметров\n",
    "\n",
    "df_new = df.drop(columns = ['Image Name', \n",
    "                            'series length 5',\n",
    "                            'series length 6', 'series length 7', \n",
    "                            'series length 8', 'series length 9',\n",
    "                            'series length 10', 'series length 11',\n",
    "                            'series length 12'])\n",
    "\n",
    "\n",
    "# Разделим набор данных на независимые и зависимые переменные. Сохраняем как массив\n",
    "X = df_new.drop('with message', axis = 1)\n",
    "Y = df_new['with message']\n",
    "\n",
    "# поделили на обучающую и тестовую выборки 30/70\n",
    "X_train, X_test, Y_train, Y_test = train_test_split(X, Y, test_size = 0.3, random_state = 21)\n",
    "X_train.shape, X_test.shape\n",
    "\n",
    "# Нормализуем данные\n",
    "KNN = KNeighborsClassifier()\n",
    "scaler = StandardScaler()\n",
    "\n",
    "steps_KNN = [('normalizer', scaler), ('KNN', KNN)]\n",
    "pipe_KNN = Pipeline(steps_KNN)\n",
    "\n",
    "# Подбираем гиперпараметры\n",
    "params_KNN = \\\n",
    "     {'KNN__n_neighbors': np.arange(5, 50), \n",
    "     'KNN__weights': ['uniform', 'distance'], \n",
    "     'KNN__algorithm': ['auto', 'ball_tree', 'kd_tree', 'brute']}\n",
    "\n",
    "grid_search_KNN1 = GridSearchCV(pipe_KNN, params_KNN)\n",
    "grid_search_KNN1.fit(X_train, Y_train)\n",
    "grid_search_KNN1.best_params_"
   ]
  },
  {
   "cell_type": "code",
   "execution_count": 16,
   "id": "c560255a",
   "metadata": {},
   "outputs": [
    {
     "name": "stdout",
     "output_type": "stream",
     "text": [
      "F1:  0.8273809523809524\n",
      "accuracy:  0.8066666666666666\n"
     ]
    }
   ],
   "source": [
    "# Обучаем модель с лучшими параметрами\n",
    "model_KNN = KNeighborsClassifier(algorithm = grid_search_KNN1.best_params_['KNN__algorithm'], \n",
    "                                 n_neighbors = grid_search_KNN1.best_params_['KNN__n_neighbors'], \n",
    "                                 weights = grid_search_KNN1.best_params_['KNN__weights'])\n",
    "model_KNN.fit(X_train, Y_train)\n",
    "Y_KNN = model_KNN.predict(X_test)\n",
    "\n",
    "print('F1: ', f1_score(Y_test, Y_KNN))\n",
    "print('accuracy: ', accuracy_score(Y_test, Y_KNN))\n"
   ]
  },
  {
   "cell_type": "code",
   "execution_count": 17,
   "id": "b636b9ca",
   "metadata": {},
   "outputs": [
    {
     "data": {
      "text/plain": [
       "{'KNN__algorithm': 'auto', 'KNN__n_neighbors': 35, 'KNN__weights': 'uniform'}"
      ]
     },
     "execution_count": 17,
     "metadata": {},
     "output_type": "execute_result"
    }
   ],
   "source": [
    "# Классификатор KNN для объединенных признаков.\n",
    "\n",
    "df_title = {'low midle': [], 'high midle': [], 'with message': []}\n",
    "df_new = pd.DataFrame(df_title)\n",
    "\n",
    "df_new['low midle'] = round((df['series length 1'] + df['series length 2'] + df['series length 3'])/3)\n",
    "df_new['high midle'] = round((df['series length 10'] + df['series length 11'] + df['series length 12'])/3)\n",
    "df_new['with message'] = df['with message']\n",
    "\n",
    "# Разделим набор данных на независимые и зависимые переменные. Сохраняем как массив\n",
    "X = df_new.drop('with message', axis = 1)\n",
    "Y = df_new['with message']\n",
    "\n",
    "# поделили на обучающую и тестовую выборки 30/70\n",
    "X_train, X_test, Y_train, Y_test = train_test_split(X, Y, test_size = 0.3, random_state = 21)\n",
    "X_train.shape, X_test.shape\n",
    "\n",
    "# Нормализуем данные\n",
    "KNN = KNeighborsClassifier()\n",
    "scaler = StandardScaler()\n",
    "\n",
    "steps_KNN = [('normalizer', scaler), ('KNN', KNN)]\n",
    "pipe_KNN = Pipeline(steps_KNN)\n",
    "\n",
    "# Подбираем гиперпараметры\n",
    "params_KNN = \\\n",
    "     {'KNN__n_neighbors': np.arange(5, 50), \n",
    "     'KNN__weights': ['uniform', 'distance'], \n",
    "     'KNN__algorithm': ['auto', 'ball_tree', 'kd_tree', 'brute']}\n",
    "\n",
    "grid_search_KNN2 = GridSearchCV(pipe_KNN, params_KNN)\n",
    "grid_search_KNN2.fit(X_train, Y_train)\n",
    "grid_search_KNN2.best_params_"
   ]
  },
  {
   "cell_type": "code",
   "execution_count": 18,
   "id": "42e65f43",
   "metadata": {},
   "outputs": [
    {
     "name": "stdout",
     "output_type": "stream",
     "text": [
      "F1:  0.7871720116618075\n",
      "accuracy:  0.7566666666666667\n"
     ]
    }
   ],
   "source": [
    "# Обучаем модель с лучшими параметрами\n",
    "model_KNN = KNeighborsClassifier(algorithm = grid_search_KNN2.best_params_['KNN__algorithm'], \n",
    "                                 n_neighbors = grid_search_KNN2.best_params_['KNN__n_neighbors'], \n",
    "                                 weights = grid_search_KNN2.best_params_['KNN__weights'])\n",
    "model_KNN.fit(X_train, Y_train)\n",
    "Y_KNN = model_KNN.predict(X_test)\n",
    "\n",
    "print('F1: ', f1_score(Y_test, Y_KNN))\n",
    "print('accuracy: ', accuracy_score(Y_test, Y_KNN))"
   ]
  },
  {
   "cell_type": "code",
   "execution_count": 27,
   "id": "6d49c6e6",
   "metadata": {},
   "outputs": [
    {
     "data": {
      "text/plain": [
       "{'KNN__algorithm': 'auto', 'KNN__n_neighbors': 14, 'KNN__weights': 'distance'}"
      ]
     },
     "execution_count": 27,
     "metadata": {},
     "output_type": "execute_result"
    }
   ],
   "source": [
    "# Классификатор KNN на полном наборе признаков.\n",
    "\n",
    "df_new = df.drop(columns = ['Image Name'])\n",
    "\n",
    "# Разделим набор данных на независимые и зависимые переменные. Сохраняем как массив\n",
    "X = df_new.drop('with message', axis = 1)\n",
    "Y = df_new['with message']\n",
    "\n",
    "# поделили на обучающую и тестовую выборки 30/70\n",
    "X_train, X_test, Y_train, Y_test = train_test_split(X, Y, test_size = 0.3, random_state = 21)\n",
    "X_train.shape, X_test.shape\n",
    "\n",
    "# Нормализуем данные\n",
    "KNN = KNeighborsClassifier()\n",
    "scaler = StandardScaler()\n",
    "\n",
    "steps_KNN = [('normalizer', scaler), ('KNN', KNN)]\n",
    "pipe_KNN = Pipeline(steps_KNN)\n",
    "\n",
    "# Подбираем гиперпараметры\n",
    "params_KNN = \\\n",
    "     {'KNN__n_neighbors': np.arange(5, 50), \n",
    "     'KNN__weights': ['uniform', 'distance'], \n",
    "     'KNN__algorithm': ['auto', 'ball_tree', 'kd_tree', 'brute']}\n",
    "\n",
    "grid_search_KNN3 = GridSearchCV(pipe_KNN, params_KNN)\n",
    "grid_search_KNN3.fit(X_train, Y_train)\n",
    "grid_search_KNN3.best_params_"
   ]
  },
  {
   "cell_type": "code",
   "execution_count": 28,
   "id": "9ee89c0d",
   "metadata": {},
   "outputs": [
    {
     "name": "stdout",
     "output_type": "stream",
     "text": [
      "F1:  0.8203592814371258\n",
      "accuracy:  0.8\n"
     ]
    }
   ],
   "source": [
    "# Обучаем модель с лучшими параметрами\n",
    "model_KNN = KNeighborsClassifier(algorithm = grid_search_KNN3.best_params_['KNN__algorithm'], \n",
    "                                 n_neighbors = grid_search_KNN3.best_params_['KNN__n_neighbors'], \n",
    "                                 weights = grid_search_KNN3.best_params_['KNN__weights'])\n",
    "model_KNN.fit(X_train, Y_train)\n",
    "Y_KNN = model_KNN.predict(X_test)\n",
    "\n",
    "print('F1: ', f1_score(Y_test, Y_KNN))\n",
    "print('accuracy: ', accuracy_score(Y_test, Y_KNN))"
   ]
  },
  {
   "cell_type": "markdown",
   "id": "b9deab47",
   "metadata": {},
   "source": [
    "В случае Метода k-соседей лучшие результаты получили при наборе принаков из для меньших длин. Аccuracy = 0.8\n",
    "\n",
    "Параметры: KNN__algorithm = auto, gKNN__n_neighbors = 24,  KNN__weights =  distance"
   ]
  },
  {
   "cell_type": "markdown",
   "id": "1fe80e09",
   "metadata": {},
   "source": [
    "#### Дерево решений "
   ]
  },
  {
   "cell_type": "code",
   "execution_count": 19,
   "id": "6b18c2a1",
   "metadata": {},
   "outputs": [
    {
     "data": {
      "text/plain": [
       "{'DTC__criterion': 'entropy', 'DTC__max_depth': 4, 'DTC__splitter': 'best'}"
      ]
     },
     "execution_count": 19,
     "metadata": {},
     "output_type": "execute_result"
    }
   ],
   "source": [
    "# Дерево решений для меньших длин с подбором гиперпараметров\n",
    "\n",
    "df_new = df.drop(columns = ['Image Name', \n",
    "                            'series length 5',\n",
    "                            'series length 6', 'series length 7', \n",
    "                            'series length 8', 'series length 9',\n",
    "                            'series length 10', 'series length 11',\n",
    "                            'series length 12'])\n",
    "\n",
    "\n",
    "# Разделим набор данных на независимые и зависимые переменные. Сохраняем как массив\n",
    "X = df_new.drop('with message', axis = 1)\n",
    "Y = df_new['with message']\n",
    "\n",
    "# поделили на обучающую и тестовую выборки 30/70\n",
    "X_train, X_test, Y_train, Y_test = train_test_split(X, Y, test_size = 0.3, random_state = 21)\n",
    "X_train.shape, X_test.shape\n",
    "\n",
    "# Нормализуем данные\n",
    "DTC = DecisionTreeClassifier()\n",
    "scaler = StandardScaler()\n",
    "\n",
    "steps_DTC = [('normalizer', scaler), ('DTC', DTC)]\n",
    "pipe_DTC = Pipeline(steps_DTC)\n",
    "\n",
    "\n",
    "# Подбираем гиперпараметры\n",
    "\n",
    "params_DTC = \\\n",
    "     {'DTC__max_depth': np.arange(1, 10),\n",
    "     'DTC__splitter': ['best', 'random'],\n",
    "     'DTC__criterion': ['gini', 'entropy']}\n",
    "\n",
    "grid_search_DTC1 = GridSearchCV(pipe_DTC, params_DTC)\n",
    "grid_search_DTC1.fit(X_train, Y_train)\n",
    "grid_search_DTC1.best_params_\n"
   ]
  },
  {
   "cell_type": "code",
   "execution_count": 20,
   "id": "49bdbd55",
   "metadata": {},
   "outputs": [
    {
     "name": "stdout",
     "output_type": "stream",
     "text": [
      "F1:  0.8104956268221575\n",
      "accuracy:  0.7833333333333333\n"
     ]
    }
   ],
   "source": [
    "# Обучаем модель с лучшими параметрами\n",
    "\n",
    "model_DTC = DecisionTreeClassifier(max_depth = grid_search_DTC1.best_params_['DTC__max_depth'], \n",
    "                                 splitter = grid_search_DTC1.best_params_['DTC__splitter'], \n",
    "                                 criterion = grid_search_DTC1.best_params_['DTC__criterion'])\n",
    "model_DTC.fit(X_train, Y_train)\n",
    "Y_DTC = model_DTC.predict(X_test)\n",
    "\n",
    "print('F1: ', f1_score(Y_test, Y_DTC))\n",
    "print('accuracy: ', accuracy_score(Y_test, Y_DTC))"
   ]
  },
  {
   "cell_type": "code",
   "execution_count": 21,
   "id": "885b9f2d",
   "metadata": {},
   "outputs": [
    {
     "data": {
      "text/plain": [
       "{'DTC__criterion': 'gini', 'DTC__max_depth': 4, 'DTC__splitter': 'best'}"
      ]
     },
     "execution_count": 21,
     "metadata": {},
     "output_type": "execute_result"
    }
   ],
   "source": [
    "# Дерево решений для объединенных признаков.\n",
    "\n",
    "df_title = {'low midle': [], 'high midle': [], 'with message': []}\n",
    "df_new = pd.DataFrame(df_title)\n",
    "\n",
    "df_new['low midle'] = round((df['series length 1'] + df['series length 2'] + df['series length 3'])/3)\n",
    "df_new['high midle'] = round((df['series length 10'] + df['series length 11'] + df['series length 12'])/3)\n",
    "df_new['with message'] = df['with message']\n",
    "\n",
    "\n",
    "# Разделим набор данных на независимые и зависимые переменные. Сохраняем как массив\n",
    "X = df_new.drop('with message', axis = 1)\n",
    "Y = df_new['with message']\n",
    "\n",
    "# поделили на обучающую и тестовую выборки 30/70\n",
    "X_train, X_test, Y_train, Y_test = train_test_split(X, Y, test_size = 0.3, random_state = 21)\n",
    "X_train.shape, X_test.shape\n",
    "\n",
    "# Нормализуем данные\n",
    "DTC = DecisionTreeClassifier()\n",
    "scaler = StandardScaler()\n",
    "\n",
    "steps_DTC = [('normalizer', scaler), ('DTC', DTC)]\n",
    "pipe_DTC = Pipeline(steps_DTC)\n",
    "\n",
    "\n",
    "# Подбираем гиперпараметры\n",
    "\n",
    "params_DTC = \\\n",
    "     {'DTC__max_depth': np.arange(1, 10),\n",
    "     'DTC__splitter': ['best', 'random'],\n",
    "     'DTC__criterion': ['gini', 'entropy']}\n",
    "\n",
    "grid_search_DTC2 = GridSearchCV(pipe_DTC, params_DTC)\n",
    "grid_search_DTC2.fit(X_train, Y_train)\n",
    "grid_search_DTC2.best_params_"
   ]
  },
  {
   "cell_type": "code",
   "execution_count": 22,
   "id": "4f0e5f71",
   "metadata": {},
   "outputs": [
    {
     "name": "stdout",
     "output_type": "stream",
     "text": [
      "F1:  0.7679083094555874\n",
      "accuracy:  0.73\n"
     ]
    }
   ],
   "source": [
    "# Обучаем модель с лучшими параметрами\n",
    "\n",
    "model_DTC = DecisionTreeClassifier(max_depth = grid_search_DTC2.best_params_['DTC__max_depth'], \n",
    "                                 splitter = grid_search_DTC2.best_params_['DTC__splitter'], \n",
    "                                 criterion = grid_search_DTC2.best_params_['DTC__criterion'])\n",
    "model_DTC.fit(X_train, Y_train)\n",
    "Y_DTC = model_DTC.predict(X_test)\n",
    "\n",
    "print('F1: ', f1_score(Y_test, Y_DTC))\n",
    "print('accuracy: ', accuracy_score(Y_test, Y_DTC))"
   ]
  },
  {
   "cell_type": "code",
   "execution_count": 29,
   "id": "a7e301be",
   "metadata": {},
   "outputs": [
    {
     "data": {
      "text/plain": [
       "{'DTC__criterion': 'gini', 'DTC__max_depth': 7, 'DTC__splitter': 'random'}"
      ]
     },
     "execution_count": 29,
     "metadata": {},
     "output_type": "execute_result"
    }
   ],
   "source": [
    "# Дерево решений на полном наборе признаков.\n",
    "\n",
    "df_new = df.drop(columns = ['Image Name'])\n",
    "\n",
    "\n",
    "# Разделим набор данных на независимые и зависимые переменные. Сохраняем как массив\n",
    "X = df_new.drop('with message', axis = 1)\n",
    "Y = df_new['with message']\n",
    "\n",
    "# поделили на обучающую и тестовую выборки 30/70\n",
    "X_train, X_test, Y_train, Y_test = train_test_split(X, Y, test_size = 0.3, random_state = 21)\n",
    "X_train.shape, X_test.shape\n",
    "\n",
    "# Нормализуем данные\n",
    "DTC = DecisionTreeClassifier()\n",
    "scaler = StandardScaler()\n",
    "\n",
    "steps_DTC = [('normalizer', scaler), ('DTC', DTC)]\n",
    "pipe_DTC = Pipeline(steps_DTC)\n",
    "\n",
    "\n",
    "# Подбираем гиперпараметры\n",
    "\n",
    "params_DTC = \\\n",
    "     {'DTC__max_depth': np.arange(1, 10),\n",
    "     'DTC__splitter': ['best', 'random'],\n",
    "     'DTC__criterion': ['gini', 'entropy']}\n",
    "\n",
    "grid_search_DTC3 = GridSearchCV(pipe_DTC, params_DTC)\n",
    "grid_search_DTC3.fit(X_train, Y_train)\n",
    "grid_search_DTC3.best_params_"
   ]
  },
  {
   "cell_type": "code",
   "execution_count": 30,
   "id": "6c677a17",
   "metadata": {},
   "outputs": [
    {
     "name": "stdout",
     "output_type": "stream",
     "text": [
      "F1:  0.7639751552795031\n",
      "accuracy:  0.7466666666666667\n"
     ]
    }
   ],
   "source": [
    "# Обучаем модель с лучшими параметрами\n",
    "\n",
    "model_DTC = DecisionTreeClassifier(max_depth = grid_search_DTC3.best_params_['DTC__max_depth'], \n",
    "                                 splitter = grid_search_DTC3.best_params_['DTC__splitter'], \n",
    "                                 criterion = grid_search_DTC3.best_params_['DTC__criterion'])\n",
    "model_DTC.fit(X_train, Y_train)\n",
    "Y_DTC = model_DTC.predict(X_test)\n",
    "\n",
    "print('F1: ', f1_score(Y_test, Y_DTC))\n",
    "print('accuracy: ', accuracy_score(Y_test, Y_DTC))"
   ]
  },
  {
   "cell_type": "markdown",
   "id": "0c692c03",
   "metadata": {},
   "source": [
    "В случае DecisionTreeClassifier лучшие результаты получили при наборе принаков из для меньших длин. Аccuracy = 0.78\n",
    "\n",
    "Параметры: DTC__criterion = entropy, DTC__max_depth = 4, DTC__splitter = best"
   ]
  },
  {
   "cell_type": "markdown",
   "id": "31302f58",
   "metadata": {},
   "source": [
    "#### Случайный лес"
   ]
  },
  {
   "cell_type": "code",
   "execution_count": 23,
   "id": "e326368a",
   "metadata": {},
   "outputs": [
    {
     "data": {
      "text/plain": [
       "{'RFC__criterion': 'gini', 'RFC__n_estimators': 79}"
      ]
     },
     "execution_count": 23,
     "metadata": {},
     "output_type": "execute_result"
    }
   ],
   "source": [
    "# Дерево решений для меньших длин с подбором гиперпараметров\n",
    "\n",
    "df_new = df.drop(columns = ['Image Name', \n",
    "                            'series length 5',\n",
    "                            'series length 6', 'series length 7', \n",
    "                            'series length 8', 'series length 9',\n",
    "                            'series length 10', 'series length 11',\n",
    "                            'series length 12'])\n",
    "\n",
    "\n",
    "# Разделим набор данных на независимые и зависимые переменные. Сохраняем как массив\n",
    "X = df_new.drop('with message', axis = 1)\n",
    "Y = df_new['with message']\n",
    "\n",
    "# поделили на обучающую и тестовую выборки 30/70\n",
    "X_train, X_test, Y_train, Y_test = train_test_split(X, Y, test_size = 0.3, random_state = 21)\n",
    "X_train.shape, X_test.shape\n",
    "\n",
    "# Нормализуем данные\n",
    "RFC = RandomForestClassifier()\n",
    "scaler = StandardScaler()\n",
    "\n",
    "steps_RFC = [('normalizer', scaler), ('RFC', RFC)]\n",
    "pipe_RFC = Pipeline(steps_RFC)\n",
    "\n",
    "\n",
    "# Подбираем гиперпараметры\n",
    "params_RFC = \\\n",
    "     {'RFC__n_estimators': np.arange(10, 100),\n",
    "     'RFC__criterion': ['gini', 'entropy']}\n",
    "grid_search_RFC1 = GridSearchCV(pipe_RFC, params_RFC)\n",
    "grid_search_RFC1.fit(X_train, Y_train)\n",
    "grid_search_RFC1.best_params_"
   ]
  },
  {
   "cell_type": "code",
   "execution_count": 24,
   "id": "6d9e38da",
   "metadata": {},
   "outputs": [
    {
     "name": "stdout",
     "output_type": "stream",
     "text": [
      "F1:  0.7962962962962964\n",
      "accuracy:  0.78\n"
     ]
    }
   ],
   "source": [
    "# Обучаем модель с лучшими параметрами\n",
    "\n",
    "model_RFC = RandomForestClassifier(n_estimators = grid_search_RFC1.best_params_['RFC__n_estimators'], \n",
    "                                 criterion = grid_search_RFC1.best_params_['RFC__criterion'])\n",
    "model_RFC.fit(X_train, Y_train)\n",
    "Y_RFC = model_RFC.predict(X_test)\n",
    "\n",
    "print('F1: ', f1_score(Y_test, Y_RFC))\n",
    "print('accuracy: ', accuracy_score(Y_test, Y_RFC))"
   ]
  },
  {
   "cell_type": "code",
   "execution_count": 25,
   "id": "4c882270",
   "metadata": {},
   "outputs": [
    {
     "data": {
      "text/plain": [
       "{'RFC__criterion': 'entropy', 'RFC__n_estimators': 11}"
      ]
     },
     "execution_count": 25,
     "metadata": {},
     "output_type": "execute_result"
    }
   ],
   "source": [
    "# Дерево решений для объединенных признаков.\n",
    "\n",
    "df_title = {'low midle': [], 'high midle': [], 'with message': []}\n",
    "df_new = pd.DataFrame(df_title)\n",
    "\n",
    "df_new['low midle'] = round((df['series length 1'] + df['series length 2'] + df['series length 3'])/3)\n",
    "df_new['high midle'] = round((df['series length 10'] + df['series length 11'] + df['series length 12'])/3)\n",
    "df_new['with message'] = df['with message']\n",
    "\n",
    "\n",
    "# Разделим набор данных на независимые и зависимые переменные. Сохраняем как массив\n",
    "X = df_new.drop('with message', axis = 1)\n",
    "Y = df_new['with message']\n",
    "\n",
    "# поделили на обучающую и тестовую выборки 30/70\n",
    "X_train, X_test, Y_train, Y_test = train_test_split(X, Y, test_size = 0.3, random_state = 21)\n",
    "X_train.shape, X_test.shape\n",
    "\n",
    "# Нормализуем данные\n",
    "RFC = RandomForestClassifier()\n",
    "scaler = StandardScaler()\n",
    "\n",
    "steps_RFC = [('normalizer', scaler), ('RFC', RFC)]\n",
    "pipe_RFC = Pipeline(steps_RFC)\n",
    "\n",
    "\n",
    "# Подбираем гиперпараметры\n",
    "params_RFC = \\\n",
    "     {'RFC__n_estimators': np.arange(10, 100),\n",
    "     'RFC__criterion': ['gini', 'entropy']}\n",
    "grid_search_RFC2 = GridSearchCV(pipe_RFC, params_RFC)\n",
    "grid_search_RFC2.fit(X_train, Y_train)\n",
    "grid_search_RFC2.best_params_"
   ]
  },
  {
   "cell_type": "code",
   "execution_count": 26,
   "id": "f714b1b0",
   "metadata": {},
   "outputs": [
    {
     "name": "stdout",
     "output_type": "stream",
     "text": [
      "F1:  0.6883116883116883\n",
      "accuracy:  0.68\n"
     ]
    }
   ],
   "source": [
    "# Обучаем модель с лучшими параметрами\n",
    "\n",
    "model_RFC = RandomForestClassifier(n_estimators = grid_search_RFC2.best_params_['RFC__n_estimators'], \n",
    "                                 criterion = grid_search_RFC2.best_params_['RFC__criterion'])\n",
    "model_RFC.fit(X_train, Y_train)\n",
    "Y_RFC = model_RFC.predict(X_test)\n",
    "\n",
    "\n",
    "print('F1: ', f1_score(Y_test, Y_RFC))\n",
    "print('accuracy: ', accuracy_score(Y_test, Y_RFC))"
   ]
  },
  {
   "cell_type": "code",
   "execution_count": 31,
   "id": "65662bb5",
   "metadata": {},
   "outputs": [
    {
     "data": {
      "text/plain": [
       "{'RFC__criterion': 'gini', 'RFC__n_estimators': 97}"
      ]
     },
     "execution_count": 31,
     "metadata": {},
     "output_type": "execute_result"
    }
   ],
   "source": [
    "# Дерево решений на полном наборе признаков.\n",
    "\n",
    "df_new = df.drop(columns = ['Image Name'])\n",
    "\n",
    "# Разделим набор данных на независимые и зависимые переменные. Сохраняем как массив\n",
    "X = df_new.drop('with message', axis = 1)\n",
    "Y = df_new['with message']\n",
    "\n",
    "# поделили на обучающую и тестовую выборки 30/70\n",
    "X_train, X_test, Y_train, Y_test = train_test_split(X, Y, test_size = 0.3, random_state = 21)\n",
    "X_train.shape, X_test.shape\n",
    "\n",
    "# Нормализуем данные\n",
    "RFC = RandomForestClassifier()\n",
    "scaler = StandardScaler()\n",
    "\n",
    "steps_RFC = [('normalizer', scaler), ('RFC', RFC)]\n",
    "pipe_RFC = Pipeline(steps_RFC)\n",
    "\n",
    "\n",
    "# Подбираем гиперпараметры\n",
    "params_RFC = \\\n",
    "     {'RFC__n_estimators': np.arange(10, 100),\n",
    "     'RFC__criterion': ['gini', 'entropy']}\n",
    "grid_search_RFC3 = GridSearchCV(pipe_RFC, params_RFC)\n",
    "grid_search_RFC3.fit(X_train, Y_train)\n",
    "grid_search_RFC3.best_params_"
   ]
  },
  {
   "cell_type": "code",
   "execution_count": 32,
   "id": "36ecf5d1",
   "metadata": {},
   "outputs": [
    {
     "name": "stdout",
     "output_type": "stream",
     "text": [
      "F1:  0.8203592814371258\n",
      "accuracy:  0.8\n"
     ]
    }
   ],
   "source": [
    "# Обучаем модель с лучшими параметрами\n",
    "\n",
    "model_RFC = RandomForestClassifier(n_estimators = grid_search_RFC3.best_params_['RFC__n_estimators'], \n",
    "                                 criterion = grid_search_RFC3.best_params_['RFC__criterion'])\n",
    "model_RFC.fit(X_train, Y_train)\n",
    "Y_RFC = model_RFC.predict(X_test)\n",
    "\n",
    "\n",
    "print('F1: ', f1_score(Y_test, Y_RFC))\n",
    "print('accuracy: ', accuracy_score(Y_test, Y_RFC))"
   ]
  },
  {
   "cell_type": "markdown",
   "id": "e6a1eb5d",
   "metadata": {},
   "source": [
    "В случае RandomForestClassifier лучшие результаты получили на полном наборе принаков. Аccuracy = 0.8\n",
    "\n",
    "Параметры: RFC__criterion = gini, RFC__n_estimators = 97"
   ]
  },
  {
   "cell_type": "markdown",
   "id": "fe00b62b",
   "metadata": {},
   "source": [
    "#### Зависимость точности от заполненности контейнера"
   ]
  },
  {
   "cell_type": "code",
   "execution_count": 36,
   "id": "f7e05347",
   "metadata": {},
   "outputs": [],
   "source": [
    "# Классификатор RandomForestClassifier на полном наборе принаков\n",
    "# с параметрами {'RFC__criterion': 'gini', 'RFC__n_estimators': 97}\n",
    "\n",
    "Q = []\n",
    "Accur = []\n",
    "for percent in range(20, 110, 10):\n",
    "    df_name = 'LSB_' + str(percent) + '.csv'\n",
    "    df = pd.read_csv(df_name)\n",
    "    \n",
    "    df_new = df.drop(columns = ['Image Name'])\n",
    "    \n",
    "    \n",
    "    # Разделим набор данных на независимые и зависимые переменные. Сохраняем как массив\n",
    "    X = df_new.drop('with message', axis = 1)\n",
    "    Y = df_new['with message']\n",
    "    \n",
    "    # поделили на обучающую и тестовую выборки 30/70\n",
    "    X_train, X_test, Y_train, Y_test = train_test_split(X, Y, test_size = 0.3, random_state = 21)\n",
    "    X_train.shape, X_test.shape\n",
    "    \n",
    "    # Нормализуем данные\n",
    "    scale_features_mm = MinMaxScaler()\n",
    "    X_train_new = scale_features_mm.fit_transform(X_train) \n",
    "    X_test_new = scale_features_mm.fit_transform(X_test)\n",
    "\n",
    "        \n",
    "    model_RFC = RandomForestClassifier(n_estimators = grid_search_RFC3.best_params_['RFC__n_estimators'], \n",
    "                                 criterion = grid_search_RFC3.best_params_['RFC__criterion'])\n",
    "\n",
    "    model_RFC.fit(X_train, Y_train)\n",
    "    Y_RFC = model_RFC.predict(X_test)\n",
    "\n",
    "    Q.append(percent)\n",
    "    Accur.append(round(accuracy_score(Y_test, Y_RFC), 6))"
   ]
  },
  {
   "cell_type": "code",
   "execution_count": 37,
   "id": "b9d3723f",
   "metadata": {},
   "outputs": [
    {
     "name": "stdout",
     "output_type": "stream",
     "text": [
      "[20, 30, 40, 50, 60, 70, 80, 90, 100]\n",
      "[0.686667, 0.753333, 0.746667, 0.78, 0.813333, 0.86, 0.916667, 0.926667, 0.94]\n"
     ]
    }
   ],
   "source": [
    "print(Q)    \n",
    "print(Accur)"
   ]
  },
  {
   "cell_type": "code",
   "execution_count": 39,
   "id": "1a58189d",
   "metadata": {},
   "outputs": [
    {
     "data": {
      "text/plain": [
       "<function matplotlib.pyplot.show(close=None, block=None)>"
      ]
     },
     "execution_count": 39,
     "metadata": {},
     "output_type": "execute_result"
    },
    {
     "data": {
      "image/png": "[encoded data removed]",
      "text/plain": [
       "<Figure size 432x288 with 1 Axes>"
      ]
     },
     "metadata": {
      "needs_background": "light"
     },
     "output_type": "display_data"
    }
   ],
   "source": [
    "plt.plot(Accur, Q)\n",
    "plt.title('model accuracy')\n",
    "plt.ylabel('container fullness')\n",
    "plt.xlabel('accuracy')\n",
    "plt.legend(['train'], loc = 'upper left')\n",
    "plt.show"
   ]
  },
  {
   "cell_type": "markdown",
   "id": "efb640cc",
   "metadata": {},
   "source": [
    "Как и предполагалось, с увеличением процента заполненности контейнера точность уаеличивается"
   ]
  }
 ],
 "metadata": {
  "kernelspec": {
   "display_name": "Python 3 (ipykernel)",
   "language": "python",
   "name": "python3"
  },
  "language_info": {
   "codemirror_mode": {
    "name": "ipython",
    "version": 3
   },
   "file_extension": ".py",
   "mimetype": "text/x-python",
   "name": "python",
   "nbconvert_exporter": "python",
   "pygments_lexer": "ipython3",
   "version": "3.8.10"
  }
 },
 "nbformat": 4,
 "nbformat_minor": 5
}
